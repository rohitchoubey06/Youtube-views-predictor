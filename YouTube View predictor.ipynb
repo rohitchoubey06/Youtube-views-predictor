{
 "cells": [
  {
   "cell_type": "code",
   "execution_count": 48,
   "id": "d387fdc1",
   "metadata": {},
   "outputs": [],
   "source": [
    "di = {'First 30 Days':42,'First 60 Days':139,'First 90 Days':297,'First 120 Days':744,'First 150 Days':1445}"
   ]
  },
  {
   "cell_type": "code",
   "execution_count": 49,
   "id": "51bd4cd5",
   "metadata": {},
   "outputs": [
    {
     "data": {
      "text/html": [
       "<div>\n",
       "<style scoped>\n",
       "    .dataframe tbody tr th:only-of-type {\n",
       "        vertical-align: middle;\n",
       "    }\n",
       "\n",
       "    .dataframe tbody tr th {\n",
       "        vertical-align: top;\n",
       "    }\n",
       "\n",
       "    .dataframe thead th {\n",
       "        text-align: right;\n",
       "    }\n",
       "</style>\n",
       "<table border=\"1\" class=\"dataframe\">\n",
       "  <thead>\n",
       "    <tr style=\"text-align: right;\">\n",
       "      <th></th>\n",
       "      <th>Days</th>\n",
       "      <th>Views</th>\n",
       "    </tr>\n",
       "  </thead>\n",
       "  <tbody>\n",
       "  </tbody>\n",
       "</table>\n",
       "</div>"
      ],
      "text/plain": [
       "Empty DataFrame\n",
       "Columns: [Days, Views]\n",
       "Index: []"
      ]
     },
     "execution_count": 49,
     "metadata": {},
     "output_type": "execute_result"
    }
   ],
   "source": [
    "import pandas as pd\n",
    "pd.DataFrame(di,columns=['Days','Views'])"
   ]
  },
  {
   "cell_type": "code",
   "execution_count": 50,
   "id": "486869a5",
   "metadata": {},
   "outputs": [
    {
     "data": {
      "text/plain": [
       "{'First 30 Days': 42,\n",
       " 'First 60 Days': 139,\n",
       " 'First 90 Days': 297,\n",
       " 'First 120 Days': 744,\n",
       " 'First 150 Days': 1445}"
      ]
     },
     "execution_count": 50,
     "metadata": {},
     "output_type": "execute_result"
    }
   ],
   "source": [
    "di"
   ]
  },
  {
   "cell_type": "code",
   "execution_count": 51,
   "id": "b62213f3",
   "metadata": {},
   "outputs": [],
   "source": [
    "l = [i for i in di.values()]"
   ]
  },
  {
   "cell_type": "code",
   "execution_count": 52,
   "id": "86e52721",
   "metadata": {},
   "outputs": [
    {
     "data": {
      "text/plain": [
       "dict_values([42, 139, 297, 744, 1445])"
      ]
     },
     "execution_count": 52,
     "metadata": {},
     "output_type": "execute_result"
    }
   ],
   "source": [
    "di.values()"
   ]
  },
  {
   "cell_type": "code",
   "execution_count": 53,
   "id": "9b9120f0",
   "metadata": {},
   "outputs": [],
   "source": [
    "l1=[i for i in di.keys()]"
   ]
  },
  {
   "cell_type": "code",
   "execution_count": 54,
   "id": "82a58dbf",
   "metadata": {},
   "outputs": [
    {
     "name": "stdout",
     "output_type": "stream",
     "text": [
      "[42, 139, 297, 744, 1445]  ['First 30 Days', 'First 60 Days', 'First 90 Days', 'First 120 Days', 'First 150 Days']\n"
     ]
    }
   ],
   "source": [
    "print(l,'',l1)"
   ]
  },
  {
   "cell_type": "code",
   "execution_count": 55,
   "id": "5b70b2db",
   "metadata": {},
   "outputs": [],
   "source": [
    "main = list(zip(l,l1))"
   ]
  },
  {
   "cell_type": "code",
   "execution_count": 56,
   "id": "b4e8a3da",
   "metadata": {},
   "outputs": [],
   "source": [
    "di = {'First 30 Days':42,'First 60 Days':139,'First 90 Days':297,'First 120 Days':744,'First 150 Days':1445}"
   ]
  },
  {
   "cell_type": "code",
   "execution_count": 57,
   "id": "c5606be6",
   "metadata": {},
   "outputs": [],
   "source": [
    "def dict_to_DataFrame(di):\n",
    "    l = [i for i in di.values()]\n",
    "    l1 = [i for i in di.keys()]\n",
    "    main = list(zip(l1,l))\n",
    "    df = pd.DataFrame(main,columns=['Days','Views'])\n",
    "    return df\n",
    "    "
   ]
  },
  {
   "cell_type": "code",
   "execution_count": 58,
   "id": "c7479f1a",
   "metadata": {},
   "outputs": [],
   "source": [
    "df = dict_to_DataFrame(di)"
   ]
  },
  {
   "cell_type": "code",
   "execution_count": 59,
   "id": "1919375d",
   "metadata": {},
   "outputs": [
    {
     "data": {
      "text/html": [
       "<div>\n",
       "<style scoped>\n",
       "    .dataframe tbody tr th:only-of-type {\n",
       "        vertical-align: middle;\n",
       "    }\n",
       "\n",
       "    .dataframe tbody tr th {\n",
       "        vertical-align: top;\n",
       "    }\n",
       "\n",
       "    .dataframe thead th {\n",
       "        text-align: right;\n",
       "    }\n",
       "</style>\n",
       "<table border=\"1\" class=\"dataframe\">\n",
       "  <thead>\n",
       "    <tr style=\"text-align: right;\">\n",
       "      <th></th>\n",
       "      <th>Days</th>\n",
       "      <th>Views</th>\n",
       "    </tr>\n",
       "  </thead>\n",
       "  <tbody>\n",
       "    <tr>\n",
       "      <th>0</th>\n",
       "      <td>First 30 Days</td>\n",
       "      <td>42</td>\n",
       "    </tr>\n",
       "    <tr>\n",
       "      <th>1</th>\n",
       "      <td>First 60 Days</td>\n",
       "      <td>139</td>\n",
       "    </tr>\n",
       "    <tr>\n",
       "      <th>2</th>\n",
       "      <td>First 90 Days</td>\n",
       "      <td>297</td>\n",
       "    </tr>\n",
       "    <tr>\n",
       "      <th>3</th>\n",
       "      <td>First 120 Days</td>\n",
       "      <td>744</td>\n",
       "    </tr>\n",
       "    <tr>\n",
       "      <th>4</th>\n",
       "      <td>First 150 Days</td>\n",
       "      <td>1445</td>\n",
       "    </tr>\n",
       "  </tbody>\n",
       "</table>\n",
       "</div>"
      ],
      "text/plain": [
       "             Days  Views\n",
       "0   First 30 Days     42\n",
       "1   First 60 Days    139\n",
       "2   First 90 Days    297\n",
       "3  First 120 Days    744\n",
       "4  First 150 Days   1445"
      ]
     },
     "execution_count": 59,
     "metadata": {},
     "output_type": "execute_result"
    }
   ],
   "source": [
    "df"
   ]
  },
  {
   "cell_type": "code",
   "execution_count": 60,
   "id": "3a4cbf13",
   "metadata": {},
   "outputs": [
    {
     "data": {
      "text/plain": [
       "576.2545444506273"
      ]
     },
     "execution_count": 60,
     "metadata": {},
     "output_type": "execute_result"
    }
   ],
   "source": [
    "# Now we have to predict the iews of Next month or for 'First 180 Days'\n",
    "df['Views'].std()"
   ]
  },
  {
   "cell_type": "code",
   "execution_count": 61,
   "id": "e838a528",
   "metadata": {},
   "outputs": [],
   "source": [
    "import statistics "
   ]
  },
  {
   "cell_type": "code",
   "execution_count": 62,
   "id": "f38607dc",
   "metadata": {},
   "outputs": [
    {
     "data": {
      "text/plain": [
       "332069.3"
      ]
     },
     "execution_count": 62,
     "metadata": {},
     "output_type": "execute_result"
    }
   ],
   "source": [
    "statistics.variance(df['Views'])"
   ]
  },
  {
   "cell_type": "code",
   "execution_count": 63,
   "id": "4ae66e74",
   "metadata": {},
   "outputs": [],
   "source": [
    "x=df['Views'].std()"
   ]
  },
  {
   "cell_type": "code",
   "execution_count": 64,
   "id": "967aab29",
   "metadata": {},
   "outputs": [
    {
     "data": {
      "text/plain": [
       "332069.30000000005"
      ]
     },
     "execution_count": 64,
     "metadata": {},
     "output_type": "execute_result"
    }
   ],
   "source": [
    "x**2 #Variance = std**2"
   ]
  },
  {
   "cell_type": "code",
   "execution_count": 65,
   "id": "a06ab6eb",
   "metadata": {},
   "outputs": [
    {
     "data": {
      "text/plain": [
       "1445"
      ]
     },
     "execution_count": 65,
     "metadata": {},
     "output_type": "execute_result"
    }
   ],
   "source": [
    "l[4]"
   ]
  },
  {
   "cell_type": "code",
   "execution_count": 66,
   "id": "e1a1fefa",
   "metadata": {},
   "outputs": [
    {
     "data": {
      "text/plain": [
       "5"
      ]
     },
     "execution_count": 66,
     "metadata": {},
     "output_type": "execute_result"
    }
   ],
   "source": [
    "len(l)"
   ]
  },
  {
   "cell_type": "markdown",
   "id": "b1033170",
   "metadata": {},
   "source": [
    "### Creating column 'Frequency' which will show the views per 30 Days of interval"
   ]
  },
  {
   "cell_type": "code",
   "execution_count": 67,
   "id": "0b26f652",
   "metadata": {},
   "outputs": [],
   "source": [
    "l2=[]\n",
    "for i in range(len(l)):\n",
    "    if i>0:\n",
    "        l2.append(l[i]-l[i-1])\n",
    "    else:\n",
    "        l2.append(l[i])"
   ]
  },
  {
   "cell_type": "code",
   "execution_count": 68,
   "id": "36fe955e",
   "metadata": {},
   "outputs": [
    {
     "data": {
      "text/plain": [
       "[42, 97, 158, 447, 701]"
      ]
     },
     "execution_count": 68,
     "metadata": {},
     "output_type": "execute_result"
    }
   ],
   "source": [
    "l2"
   ]
  },
  {
   "cell_type": "code",
   "execution_count": 69,
   "id": "9701d3a4",
   "metadata": {},
   "outputs": [],
   "source": [
    "df['Frequency'] = pd.DataFrame(l2,columns=['CF'])"
   ]
  },
  {
   "cell_type": "code",
   "execution_count": 70,
   "id": "900f00e1",
   "metadata": {},
   "outputs": [
    {
     "data": {
      "text/html": [
       "<div>\n",
       "<style scoped>\n",
       "    .dataframe tbody tr th:only-of-type {\n",
       "        vertical-align: middle;\n",
       "    }\n",
       "\n",
       "    .dataframe tbody tr th {\n",
       "        vertical-align: top;\n",
       "    }\n",
       "\n",
       "    .dataframe thead th {\n",
       "        text-align: right;\n",
       "    }\n",
       "</style>\n",
       "<table border=\"1\" class=\"dataframe\">\n",
       "  <thead>\n",
       "    <tr style=\"text-align: right;\">\n",
       "      <th></th>\n",
       "      <th>Days</th>\n",
       "      <th>Views</th>\n",
       "      <th>Frequency</th>\n",
       "    </tr>\n",
       "  </thead>\n",
       "  <tbody>\n",
       "    <tr>\n",
       "      <th>0</th>\n",
       "      <td>First 30 Days</td>\n",
       "      <td>42</td>\n",
       "      <td>42</td>\n",
       "    </tr>\n",
       "    <tr>\n",
       "      <th>1</th>\n",
       "      <td>First 60 Days</td>\n",
       "      <td>139</td>\n",
       "      <td>97</td>\n",
       "    </tr>\n",
       "    <tr>\n",
       "      <th>2</th>\n",
       "      <td>First 90 Days</td>\n",
       "      <td>297</td>\n",
       "      <td>158</td>\n",
       "    </tr>\n",
       "    <tr>\n",
       "      <th>3</th>\n",
       "      <td>First 120 Days</td>\n",
       "      <td>744</td>\n",
       "      <td>447</td>\n",
       "    </tr>\n",
       "    <tr>\n",
       "      <th>4</th>\n",
       "      <td>First 150 Days</td>\n",
       "      <td>1445</td>\n",
       "      <td>701</td>\n",
       "    </tr>\n",
       "  </tbody>\n",
       "</table>\n",
       "</div>"
      ],
      "text/plain": [
       "             Days  Views  Frequency\n",
       "0   First 30 Days     42         42\n",
       "1   First 60 Days    139         97\n",
       "2   First 90 Days    297        158\n",
       "3  First 120 Days    744        447\n",
       "4  First 150 Days   1445        701"
      ]
     },
     "execution_count": 70,
     "metadata": {},
     "output_type": "execute_result"
    }
   ],
   "source": [
    "df"
   ]
  },
  {
   "cell_type": "code",
   "execution_count": 71,
   "id": "907c99c3",
   "metadata": {},
   "outputs": [
    {
     "data": {
      "text/plain": [
       "13"
      ]
     },
     "execution_count": 71,
     "metadata": {},
     "output_type": "execute_result"
    }
   ],
   "source": [
    "len(df['Days'][0])"
   ]
  },
  {
   "cell_type": "code",
   "execution_count": 72,
   "id": "6923e375",
   "metadata": {},
   "outputs": [],
   "source": [
    "import seaborn as sns"
   ]
  },
  {
   "cell_type": "code",
   "execution_count": 73,
   "id": "f5e76ed3",
   "metadata": {},
   "outputs": [],
   "source": [
    "import matplotlib.pyplot as plt"
   ]
  },
  {
   "cell_type": "code",
   "execution_count": 74,
   "id": "99355726",
   "metadata": {},
   "outputs": [
    {
     "data": {
      "text/plain": [
       "<AxesSubplot:xlabel='Days', ylabel='Views'>"
      ]
     },
     "execution_count": 74,
     "metadata": {},
     "output_type": "execute_result"
    },
    {
     "data": {
      "image/png": "[encoded data removed]",
      "text/plain": [
       "<Figure size 432x288 with 1 Axes>"
      ]
     },
     "metadata": {
      "needs_background": "light"
     },
     "output_type": "display_data"
    }
   ],
   "source": [
    "sns.barplot(x=df['Days'],y=df['Views'],data=df)"
   ]
  },
  {
   "cell_type": "code",
   "execution_count": 75,
   "id": "37b8c251",
   "metadata": {},
   "outputs": [
    {
     "data": {
      "text/plain": [
       "<AxesSubplot:xlabel='Days', ylabel='Frequency'>"
      ]
     },
     "execution_count": 75,
     "metadata": {},
     "output_type": "execute_result"
    },
    {
     "data": {
      "image/png": "[encoded data removed]",
      "text/plain": [
       "<Figure size 432x288 with 1 Axes>"
      ]
     },
     "metadata": {
      "needs_background": "light"
     },
     "output_type": "display_data"
    }
   ],
   "source": [
    "sns.barplot(x=df['Days'],y=df['Frequency'],data=df)"
   ]
  },
  {
   "cell_type": "markdown",
   "id": "c30a6ab7",
   "metadata": {},
   "source": [
    "### Creating another column as 'Rate of Change in Frequency'"
   ]
  },
  {
   "cell_type": "code",
   "execution_count": 76,
   "id": "ad94583d",
   "metadata": {},
   "outputs": [],
   "source": [
    "l3=[]\n",
    "for i in range(len(l)):\n",
    "    if i>0:\n",
    "        l3.append(round(l2[i]/l2[i-1],2))\n",
    "    else:\n",
    "        l3.append(0)"
   ]
  },
  {
   "cell_type": "code",
   "execution_count": 77,
   "id": "728121a0",
   "metadata": {},
   "outputs": [],
   "source": [
    "df['Rate of Change in Frequency'] = pd.DataFrame(l3,columns=['Rate of Change'])"
   ]
  },
  {
   "cell_type": "code",
   "execution_count": 78,
   "id": "0da89ee4",
   "metadata": {},
   "outputs": [
    {
     "data": {
      "text/html": [
       "<div>\n",
       "<style scoped>\n",
       "    .dataframe tbody tr th:only-of-type {\n",
       "        vertical-align: middle;\n",
       "    }\n",
       "\n",
       "    .dataframe tbody tr th {\n",
       "        vertical-align: top;\n",
       "    }\n",
       "\n",
       "    .dataframe thead th {\n",
       "        text-align: right;\n",
       "    }\n",
       "</style>\n",
       "<table border=\"1\" class=\"dataframe\">\n",
       "  <thead>\n",
       "    <tr style=\"text-align: right;\">\n",
       "      <th></th>\n",
       "      <th>Days</th>\n",
       "      <th>Views</th>\n",
       "      <th>Frequency</th>\n",
       "      <th>Rate of Change in Frequency</th>\n",
       "    </tr>\n",
       "  </thead>\n",
       "  <tbody>\n",
       "    <tr>\n",
       "      <th>0</th>\n",
       "      <td>First 30 Days</td>\n",
       "      <td>42</td>\n",
       "      <td>42</td>\n",
       "      <td>0.00</td>\n",
       "    </tr>\n",
       "    <tr>\n",
       "      <th>1</th>\n",
       "      <td>First 60 Days</td>\n",
       "      <td>139</td>\n",
       "      <td>97</td>\n",
       "      <td>2.31</td>\n",
       "    </tr>\n",
       "    <tr>\n",
       "      <th>2</th>\n",
       "      <td>First 90 Days</td>\n",
       "      <td>297</td>\n",
       "      <td>158</td>\n",
       "      <td>1.63</td>\n",
       "    </tr>\n",
       "    <tr>\n",
       "      <th>3</th>\n",
       "      <td>First 120 Days</td>\n",
       "      <td>744</td>\n",
       "      <td>447</td>\n",
       "      <td>2.83</td>\n",
       "    </tr>\n",
       "    <tr>\n",
       "      <th>4</th>\n",
       "      <td>First 150 Days</td>\n",
       "      <td>1445</td>\n",
       "      <td>701</td>\n",
       "      <td>1.57</td>\n",
       "    </tr>\n",
       "  </tbody>\n",
       "</table>\n",
       "</div>"
      ],
      "text/plain": [
       "             Days  Views  Frequency  Rate of Change in Frequency\n",
       "0   First 30 Days     42         42                         0.00\n",
       "1   First 60 Days    139         97                         2.31\n",
       "2   First 90 Days    297        158                         1.63\n",
       "3  First 120 Days    744        447                         2.83\n",
       "4  First 150 Days   1445        701                         1.57"
      ]
     },
     "execution_count": 78,
     "metadata": {},
     "output_type": "execute_result"
    }
   ],
   "source": [
    "df"
   ]
  },
  {
   "cell_type": "markdown",
   "id": "33ba017c",
   "metadata": {},
   "source": [
    "### We are predicting views for 180 days using standard deviation"
   ]
  },
  {
   "cell_type": "code",
   "execution_count": 79,
   "id": "b4fa58c8",
   "metadata": {},
   "outputs": [],
   "source": [
    "x1 = round(df['Rate of Change in Frequency'].std(),2)"
   ]
  },
  {
   "cell_type": "code",
   "execution_count": 80,
   "id": "ea8955cc",
   "metadata": {},
   "outputs": [],
   "source": [
    "variance = x1**2"
   ]
  },
  {
   "cell_type": "code",
   "execution_count": 81,
   "id": "9b552030",
   "metadata": {},
   "outputs": [
    {
     "name": "stdout",
     "output_type": "stream",
     "text": [
      "1.07 1.1449\n"
     ]
    }
   ],
   "source": [
    "print(x1,variance)"
   ]
  },
  {
   "cell_type": "code",
   "execution_count": 82,
   "id": "bce5c392",
   "metadata": {},
   "outputs": [],
   "source": [
    "cf_180_days = df['Frequency'].iloc[-1]*x1"
   ]
  },
  {
   "cell_type": "code",
   "execution_count": 83,
   "id": "d22ddf23",
   "metadata": {},
   "outputs": [],
   "source": [
    "First_180_days = df['Views'].iloc[-1]+cf_180_days"
   ]
  },
  {
   "cell_type": "code",
   "execution_count": 84,
   "id": "94a61848",
   "metadata": {},
   "outputs": [
    {
     "name": "stdout",
     "output_type": "stream",
     "text": [
      "Total Views after 180 days would be around : 2195\n"
     ]
    }
   ],
   "source": [
    "print('Total Views after 180 days would be around :',round(First_180_days))"
   ]
  },
  {
   "cell_type": "code",
   "execution_count": 85,
   "id": "51b2fa4f",
   "metadata": {},
   "outputs": [
    {
     "data": {
      "text/html": [
       "<div>\n",
       "<style scoped>\n",
       "    .dataframe tbody tr th:only-of-type {\n",
       "        vertical-align: middle;\n",
       "    }\n",
       "\n",
       "    .dataframe tbody tr th {\n",
       "        vertical-align: top;\n",
       "    }\n",
       "\n",
       "    .dataframe thead th {\n",
       "        text-align: right;\n",
       "    }\n",
       "</style>\n",
       "<table border=\"1\" class=\"dataframe\">\n",
       "  <thead>\n",
       "    <tr style=\"text-align: right;\">\n",
       "      <th></th>\n",
       "      <th>Days</th>\n",
       "      <th>Views</th>\n",
       "      <th>Frequency</th>\n",
       "      <th>Rate of Change in Frequency</th>\n",
       "    </tr>\n",
       "  </thead>\n",
       "  <tbody>\n",
       "    <tr>\n",
       "      <th>0</th>\n",
       "      <td>First 30 Days</td>\n",
       "      <td>42</td>\n",
       "      <td>42</td>\n",
       "      <td>0.00</td>\n",
       "    </tr>\n",
       "    <tr>\n",
       "      <th>1</th>\n",
       "      <td>First 60 Days</td>\n",
       "      <td>139</td>\n",
       "      <td>97</td>\n",
       "      <td>2.31</td>\n",
       "    </tr>\n",
       "    <tr>\n",
       "      <th>2</th>\n",
       "      <td>First 90 Days</td>\n",
       "      <td>297</td>\n",
       "      <td>158</td>\n",
       "      <td>1.63</td>\n",
       "    </tr>\n",
       "    <tr>\n",
       "      <th>3</th>\n",
       "      <td>First 120 Days</td>\n",
       "      <td>744</td>\n",
       "      <td>447</td>\n",
       "      <td>2.83</td>\n",
       "    </tr>\n",
       "    <tr>\n",
       "      <th>4</th>\n",
       "      <td>First 150 Days</td>\n",
       "      <td>1445</td>\n",
       "      <td>701</td>\n",
       "      <td>1.57</td>\n",
       "    </tr>\n",
       "  </tbody>\n",
       "</table>\n",
       "</div>"
      ],
      "text/plain": [
       "             Days  Views  Frequency  Rate of Change in Frequency\n",
       "0   First 30 Days     42         42                         0.00\n",
       "1   First 60 Days    139         97                         2.31\n",
       "2   First 90 Days    297        158                         1.63\n",
       "3  First 120 Days    744        447                         2.83\n",
       "4  First 150 Days   1445        701                         1.57"
      ]
     },
     "execution_count": 85,
     "metadata": {},
     "output_type": "execute_result"
    }
   ],
   "source": [
    "df"
   ]
  },
  {
   "cell_type": "code",
   "execution_count": 86,
   "id": "fdea17b2",
   "metadata": {},
   "outputs": [
    {
     "data": {
      "text/plain": [
       "0.18000000000000002"
      ]
     },
     "execution_count": 86,
     "metadata": {},
     "output_type": "execute_result"
    }
   ],
   "source": [
    "0.2-0.02"
   ]
  },
  {
   "cell_type": "code",
   "execution_count": 87,
   "id": "83eb04e7",
   "metadata": {},
   "outputs": [
    {
     "data": {
      "text/plain": [
       "0.19999999999999998"
      ]
     },
     "execution_count": 87,
     "metadata": {},
     "output_type": "execute_result"
    }
   ],
   "source": [
    "0.18+0.02"
   ]
  },
  {
   "cell_type": "code",
   "execution_count": 90,
   "id": "cd08a985",
   "metadata": {},
   "outputs": [],
   "source": [
    "def inputdf(df):\n",
    "    l1= [input('Enter the Days:')]\n",
    "    l2= [int(input('Enter the actual views:'))]\n",
    "    l3= l2 - df['Views'].iloc[-1] #frequency\n",
    "    l4= l3/df['Frequency'].iloc[-1]\n",
    "    df1 = pd.DataFrame(list(zip(l1,l2,l3,l4)),columns=df.columns)\n",
    "    final_df = pd.concat([df,df1],ignore_index=True)\n",
    "    return final_df"
   ]
  },
  {
   "cell_type": "code",
   "execution_count": 91,
   "id": "df7c83d4",
   "metadata": {},
   "outputs": [
    {
     "name": "stdout",
     "output_type": "stream",
     "text": [
      "Enter the Days:First 180 days\n",
      "Enter the actual views:2128\n"
     ]
    },
    {
     "data": {
      "text/html": [
       "<div>\n",
       "<style scoped>\n",
       "    .dataframe tbody tr th:only-of-type {\n",
       "        vertical-align: middle;\n",
       "    }\n",
       "\n",
       "    .dataframe tbody tr th {\n",
       "        vertical-align: top;\n",
       "    }\n",
       "\n",
       "    .dataframe thead th {\n",
       "        text-align: right;\n",
       "    }\n",
       "</style>\n",
       "<table border=\"1\" class=\"dataframe\">\n",
       "  <thead>\n",
       "    <tr style=\"text-align: right;\">\n",
       "      <th></th>\n",
       "      <th>Days</th>\n",
       "      <th>Views</th>\n",
       "      <th>Frequency</th>\n",
       "      <th>Rate of Change in Frequency</th>\n",
       "    </tr>\n",
       "  </thead>\n",
       "  <tbody>\n",
       "    <tr>\n",
       "      <th>0</th>\n",
       "      <td>First 30 Days</td>\n",
       "      <td>42</td>\n",
       "      <td>42</td>\n",
       "      <td>0.000000</td>\n",
       "    </tr>\n",
       "    <tr>\n",
       "      <th>1</th>\n",
       "      <td>First 60 Days</td>\n",
       "      <td>139</td>\n",
       "      <td>97</td>\n",
       "      <td>2.310000</td>\n",
       "    </tr>\n",
       "    <tr>\n",
       "      <th>2</th>\n",
       "      <td>First 90 Days</td>\n",
       "      <td>297</td>\n",
       "      <td>158</td>\n",
       "      <td>1.630000</td>\n",
       "    </tr>\n",
       "    <tr>\n",
       "      <th>3</th>\n",
       "      <td>First 120 Days</td>\n",
       "      <td>744</td>\n",
       "      <td>447</td>\n",
       "      <td>2.830000</td>\n",
       "    </tr>\n",
       "    <tr>\n",
       "      <th>4</th>\n",
       "      <td>First 150 Days</td>\n",
       "      <td>1445</td>\n",
       "      <td>701</td>\n",
       "      <td>1.570000</td>\n",
       "    </tr>\n",
       "    <tr>\n",
       "      <th>5</th>\n",
       "      <td>First 180 days</td>\n",
       "      <td>2128</td>\n",
       "      <td>683</td>\n",
       "      <td>0.974322</td>\n",
       "    </tr>\n",
       "  </tbody>\n",
       "</table>\n",
       "</div>"
      ],
      "text/plain": [
       "             Days  Views  Frequency  Rate of Change in Frequency\n",
       "0   First 30 Days     42         42                     0.000000\n",
       "1   First 60 Days    139         97                     2.310000\n",
       "2   First 90 Days    297        158                     1.630000\n",
       "3  First 120 Days    744        447                     2.830000\n",
       "4  First 150 Days   1445        701                     1.570000\n",
       "5  First 180 days   2128        683                     0.974322"
      ]
     },
     "execution_count": 91,
     "metadata": {},
     "output_type": "execute_result"
    }
   ],
   "source": [
    "inputdf(df)"
   ]
  },
  {
   "cell_type": "code",
   "execution_count": null,
   "id": "822fa573",
   "metadata": {},
   "outputs": [],
   "source": []
  }
 ],
 "metadata": {
  "kernelspec": {
   "display_name": "Python 3 (ipykernel)",
   "language": "python",
   "name": "python3"
  },
  "language_info": {
   "codemirror_mode": {
    "name": "ipython",
    "version": 3
   },
   "file_extension": ".py",
   "mimetype": "text/x-python",
   "name": "python",
   "nbconvert_exporter": "python",
   "pygments_lexer": "ipython3",
   "version": "3.9.7"
  }
 },
 "nbformat": 4,
 "nbformat_minor": 5
}
